{
  "nbformat": 4,
  "nbformat_minor": 0,
  "metadata": {
    "colab": {
      "provenance": [],
      "include_colab_link": true
    },
    "kernelspec": {
      "name": "python3",
      "display_name": "Python 3"
    },
    "language_info": {
      "name": "python"
    }
  },
  "cells": [
    {
      "cell_type": "markdown",
      "metadata": {
        "id": "view-in-github",
        "colab_type": "text"
      },
      "source": [
        "<a href=\"https://colab.research.google.com/github/AdityaJagdale/4390Assign5/blob/main/CIDM6351_Homework_3_Transform_Data_instructions.ipynb\" target=\"_parent\"><img src=\"https://colab.research.google.com/assets/colab-badge.svg\" alt=\"Open In Colab\"/></a>"
      ]
    },
    {
      "cell_type": "markdown",
      "source": [
        "\n",
        "# CIDM6351 Homework 3 Transform Data instructions  \n",
        "\n",
        "In this homework, you will apply transformation operations on various datasets and answer some questions about the data.\n",
        "\n",
        "TASK:   \n",
        "1. Copy and save a copy of this Google Colab notebook\n",
        "2. Change the Share's General Access to \"Anyone with a link\" so that the professor can see your code\n",
        "3. When done, deliver the URL of your notebook to \\\\WTclass\\cidm6351\\lessons\\Week 9\\Turn in Homework 3\\\n",
        "\n",
        "Purpose: After loading and cleaning data, the next operation usually required by data engineers is to transform the data. Transform means to change the dataset, e.g., create new columns or group by rows."
      ],
      "metadata": {
        "id": "QSUfu1hW7VkL"
      }
    },
    {
      "cell_type": "markdown",
      "source": [
        "## Analyze the Bike Rental Market in Seoul Korea.\n",
        "The city has a bike rental option to aid public transport. Load, clean, transform the data to perform a useful analysis. <br>\n",
        "<img src=\"https://upload.wikimedia.org/wikipedia/commons/9/97/North_Korea_Bike_Tour_%2814115456159%29.jpg\" height=\"100px\" alt=\"bikes\"><br>\n",
        "\n",
        "Photo: Uri Tours (uritours.com), CC BY-SA 2.0 <https://creativecommons.org/licenses/by-sa/2.0>, via Wikimedia Commons.\n",
        "\n",
        "The original author and source of the data is found here: <https://www.kaggle.com/datasets/willianoliveiragibin/bike-seoul-sharing/?select=SeoulBikeData.csv>"
      ],
      "metadata": {
        "id": "LqoMR1Or88fy"
      }
    },
    {
      "cell_type": "markdown",
      "source": [
        "## Task 1: Load the data\n",
        "\n",
        "Import the Seoul Korea Bike data into a pandas dataframe. The URL to the raw data on github is already provided for you in the code below. Inspect the data with .head and .info.\n",
        "\n",
        "Data dictionary:  \n",
        "Rented bike count is the number of bikes rented. <br>\n",
        "Date is the day of the rental. Notice the date format is day, month, year DD/MM/YYYY.  <br>\n",
        "Hour is the hour of the day in 24-hour military time, e.g. 12 is noon and 23 hours is 11pm.  <br>\n",
        "Temperature is the ambient temperature in Celsius.  <br>\n",
        "To see the other columns, visit the kaggle.com website click the Column's tab to see a list of the columns and their unit of measure.\n",
        "\n",
        "\n"
      ],
      "metadata": {
        "id": "TCUTlSbh--gr"
      }
    },
    {
      "cell_type": "code",
      "execution_count": null,
      "metadata": {
        "id": "tYF2xmGh7OTN"
      },
      "outputs": [],
      "source": [
        "seoul_bike_data_url = 'https://raw.githubusercontent.com/sean-humpherys/randomfilestorage/main/seoulbikedata.csv'\n",
        "# put your code here\n",
        "\n"
      ]
    },
    {
      "cell_type": "markdown",
      "source": [
        "## Task 2: Transform Columns\n",
        "\n",
        "Transform your data by removing unneeded columns. Remove all columns except Date, Rented Bike Count, Hour, Temperature(C). Rename Temperature(C) to just Temperature."
      ],
      "metadata": {
        "id": "du1k6xyCASBL"
      }
    },
    {
      "cell_type": "code",
      "source": [
        "# put your code here\n",
        "\n"
      ],
      "metadata": {
        "id": "4uhRTrNJANed"
      },
      "execution_count": null,
      "outputs": []
    },
    {
      "cell_type": "markdown",
      "source": [
        "## Task 3: Scatterplot\n",
        "\n",
        "We want to answer \"What happens to the rented bike count as the temperature change?\" Create a simple scatterplot between rented bike count and temperature. Label your axis."
      ],
      "metadata": {
        "id": "tCcpGNfIAwvy"
      }
    },
    {
      "cell_type": "code",
      "source": [
        "# put your code here\n",
        "\n"
      ],
      "metadata": {
        "id": "EwX7i-aMAtNC"
      },
      "execution_count": null,
      "outputs": []
    },
    {
      "cell_type": "markdown",
      "source": [
        "## Question 1: What happens to the rented bike count as the temperature change? <br>\n",
        "(Edit this text box to add your answer in a short sentence or two. You can edit text boxes in Google Colab using the markdown language. If you need to learn markdown, Google \"markdown basics.\")<br>\n",
        "Put your answer here:\n",
        "\n",
        "\n",
        "\n",
        "\n"
      ],
      "metadata": {
        "id": "HbVlD1ctBaP7"
      }
    },
    {
      "cell_type": "markdown",
      "source": [
        "## Task 4: Group By\n",
        "\n",
        "Write code that groups the Seoul bike data by hour and sums the rented bike count for each hour. Use the entire dataset and do not filter rows or groupby day. Sort the data by rented bike count from highest sum of rental count to lowest rental count. Print a table that summarizes this data.\n",
        "\n",
        "Hint: Datacamp taught you how to group by, but if you need a refresher search Google for \"pandas groupby aggregate count\"."
      ],
      "metadata": {
        "id": "2KD387pbCApJ"
      }
    },
    {
      "cell_type": "code",
      "source": [
        "# put your code here\n",
        "\n"
      ],
      "metadata": {
        "id": "jxSb53JKDNj2"
      },
      "execution_count": null,
      "outputs": []
    },
    {
      "cell_type": "markdown",
      "source": [
        "## Question 2: What hours of the day have the highest bike rentals? <br>\n",
        "(Edit this text box to add your answer in a short sentence or two. State the top three hours of the day that have the highest bike rentals so that officials can ensure that there are enough bikes in working condition during those times. )<br>\n",
        "Enter your answer here:\n",
        "\n"
      ],
      "metadata": {
        "id": "G0VYyVraDP7D"
      }
    },
    {
      "cell_type": "markdown",
      "source": [
        "## Task 5: Read about How to Melt from Wide Format to Long Format\n",
        "The Seoul Korea data is in a long format, e.g. each date/hour is a separate row. Sometimes our data comes in wide format (an example is provide shortly). As data engineers we have need to transform our data between long and wide format using Pandas melt and pivot methods. Long data is often prefered by machine learning tasks. Wide format is sometimes required for a statistical analysis for comparison of how data over time, e.g. how a student improves over time or how a patient loses weight from the start to end of a treatment program.\n",
        "\n",
        "Task 5 is to just read this article on how to melt data from wide format to long format.\n",
        "<https://www.kdnuggets.com/2023/03/beginner-guide-pandas-melt-function.html>"
      ],
      "metadata": {
        "id": "rfH3JyueITL8"
      }
    },
    {
      "cell_type": "markdown",
      "source": [
        "## Task 6: Load and Clean Data\n",
        "\n",
        "Load the NBA data into a pandas dataframe using the URL provided. Inspect the data with .head and .info. Remove any empty data rows. <br>\n",
        "Data Dictionary: <br>\n",
        "NBA Player Name: first and last name of the player<br>\n",
        "2020: count of Twitter messages for that year<br>\n",
        "2021: count of Twitter messages for that year<br>\n",
        "2022: count of Twitter messages for that year<br>\n",
        "2023: count of Twitter messages for that year<br>\n"
      ],
      "metadata": {
        "id": "HG6QImcYNl6D"
      }
    },
    {
      "cell_type": "code",
      "source": [
        "# This data is fake for the purpose of learning .melt()\n",
        "nba_player_twitter_count_url = 'https://raw.githubusercontent.com/sean-humpherys/randomfilestorage/main/nba_player_twitter_count_data.csv'\n",
        "\n",
        "# put your code here\n",
        "\n"
      ],
      "metadata": {
        "id": "Il0IWqyNNe5L"
      },
      "execution_count": null,
      "outputs": []
    },
    {
      "cell_type": "markdown",
      "source": [
        "## Task 7: Melt\n",
        "\n",
        "Melt the data from wide format into long format. The long-format dataset will have the columns \"NBA Player Name\", \"Year\", \"Twitter Count\".\n",
        "Print the dataset to showcase your successful transformation.<br>\n",
        "Example: <br>\n",
        "NBA Player Name  Year Twitter Count<br>\n",
        "Russell Westbrook  2020  413<br>\n",
        "Russell Westbrook  2021  2857<br>\n",
        "Russell Westbrook  2022  1156<br>\n",
        "...<br>\n",
        "\n"
      ],
      "metadata": {
        "id": "KF-ATbDNOHUL"
      }
    },
    {
      "cell_type": "code",
      "source": [
        "# put your code here\n",
        "\n",
        "\n"
      ],
      "metadata": {
        "id": "q_nPKl2JPTTK"
      },
      "execution_count": null,
      "outputs": []
    },
    {
      "cell_type": "markdown",
      "source": [
        "## DONE!\n",
        "\n",
        "Upload the url of your notebook to WTclass.\n",
        "\n",
        "## Grading Rubric:  \n",
        "\n",
        "Each task is worth 10%. Each question is worth 15%."
      ],
      "metadata": {
        "id": "oLOgPdAKPhHU"
      }
    }
  ]
}